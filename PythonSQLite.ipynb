{
 "cells": [
  {
   "attachments": {},
   "cell_type": "markdown",
   "metadata": {},
   "source": [
    "## Working with simple databases using pandas"
   ]
  },
  {
   "cell_type": "code",
   "execution_count": 51,
   "metadata": {},
   "outputs": [],
   "source": [
    "import sqlite3"
   ]
  },
  {
   "attachments": {},
   "cell_type": "markdown",
   "metadata": {},
   "source": [
    "### Connect to the database in memory"
   ]
  },
  {
   "cell_type": "code",
   "execution_count": 52,
   "metadata": {},
   "outputs": [],
   "source": [
    "# dbconn = sqlite3.connect(':memory:')  # for a temporary database"
   ]
  },
  {
   "cell_type": "code",
   "execution_count": 53,
   "metadata": {},
   "outputs": [],
   "source": [
    "dbconn = sqlite3.connect('mydw') # permanent database"
   ]
  },
  {
   "cell_type": "code",
   "execution_count": 54,
   "metadata": {},
   "outputs": [
    {
     "name": "stdout",
     "output_type": "stream",
     "text": [
      "\n"
     ]
    }
   ],
   "source": [
    "print()"
   ]
  },
  {
   "attachments": {},
   "cell_type": "markdown",
   "metadata": {},
   "source": [
    "### Create a cursor to use to execute SQL statements."
   ]
  },
  {
   "cell_type": "code",
   "execution_count": 55,
   "metadata": {},
   "outputs": [],
   "source": [
    "cursor = dbconn.cursor()"
   ]
  },
  {
   "attachments": {},
   "cell_type": "markdown",
   "metadata": {},
   "source": [
    "### Use the cursor to create a sample databse and put that into a pandas dataframe"
   ]
  },
  {
   "cell_type": "code",
   "execution_count": 56,
   "metadata": {},
   "outputs": [],
   "source": [
    "cursor.execute('''CREATE TABLE IF NOT EXISTS books(id INTEGER PRIMARY KEY, \n",
    "                   title TEXT, author TEXT, price TEXT, year TEXT)\n",
    "''')\n",
    "dbconn.commit()"
   ]
  },
  {
   "cell_type": "code",
   "execution_count": 57,
   "metadata": {},
   "outputs": [],
   "source": [
    "cursor.execute('''INSERT INTO books values (1, 'Pro PowerShell', 'Bryan Cafferky', 35.00, 2015)\n",
    "''')\n",
    "cursor.execute('''INSERT INTO books values (2, \"'Hithiker's Guide to the Galaxy\", 'Douglas Adams', 12.00, 199)\n",
    "''')\n",
    "dbconn.commit()"
   ]
  },
  {
   "cell_type": "code",
   "execution_count": 58,
   "metadata": {},
   "outputs": [
    {
     "data": {
      "text/html": [
       "<div>\n",
       "<style scoped>\n",
       "    .dataframe tbody tr th:only-of-type {\n",
       "        vertical-align: middle;\n",
       "    }\n",
       "\n",
       "    .dataframe tbody tr th {\n",
       "        vertical-align: top;\n",
       "    }\n",
       "\n",
       "    .dataframe thead th {\n",
       "        text-align: right;\n",
       "    }\n",
       "</style>\n",
       "<table border=\"1\" class=\"dataframe\">\n",
       "  <thead>\n",
       "    <tr style=\"text-align: right;\">\n",
       "      <th></th>\n",
       "      <th>id</th>\n",
       "      <th>title</th>\n",
       "      <th>author</th>\n",
       "      <th>price</th>\n",
       "      <th>year</th>\n",
       "    </tr>\n",
       "  </thead>\n",
       "  <tbody>\n",
       "    <tr>\n",
       "      <th>0</th>\n",
       "      <td>1</td>\n",
       "      <td>Pro PowerShell</td>\n",
       "      <td>Bryan Cafferky</td>\n",
       "      <td>35.0</td>\n",
       "      <td>2015</td>\n",
       "    </tr>\n",
       "    <tr>\n",
       "      <th>1</th>\n",
       "      <td>2</td>\n",
       "      <td>'Hithiker's Guide to the Galaxy</td>\n",
       "      <td>Douglas Adams</td>\n",
       "      <td>12.0</td>\n",
       "      <td>199</td>\n",
       "    </tr>\n",
       "  </tbody>\n",
       "</table>\n",
       "</div>"
      ],
      "text/plain": [
       "   id                            title          author price  year\n",
       "0   1                   Pro PowerShell  Bryan Cafferky  35.0  2015\n",
       "1   2  'Hithiker's Guide to the Galaxy   Douglas Adams  12.0   199"
      ]
     },
     "execution_count": 58,
     "metadata": {},
     "output_type": "execute_result"
    }
   ],
   "source": [
    "\n",
    "import pandas as pd\n",
    "\n",
    "# convert query results to a dataframe\n",
    "dfbook = pd.read_sql_query(\"SELECT * FROM books\", dbconn)\n",
    "dfbook.head()"
   ]
  },
  {
   "cell_type": "code",
   "execution_count": 59,
   "metadata": {},
   "outputs": [
    {
     "data": {
      "text/plain": [
       "pandas.core.frame.DataFrame"
      ]
     },
     "execution_count": 59,
     "metadata": {},
     "output_type": "execute_result"
    }
   ],
   "source": [
    "type(dfbook)"
   ]
  },
  {
   "attachments": {},
   "cell_type": "markdown",
   "metadata": {},
   "source": [
    "### Dropping the table"
   ]
  },
  {
   "cell_type": "code",
   "execution_count": 60,
   "metadata": {},
   "outputs": [],
   "source": [
    "cursor = dbconn.cursor()\n",
    "cursor.execute('''DROP TABLE books''')\n",
    "dbconn.commit()"
   ]
  },
  {
   "attachments": {},
   "cell_type": "markdown",
   "metadata": {},
   "source": [
    "### Close the connection"
   ]
  },
  {
   "cell_type": "code",
   "execution_count": 61,
   "metadata": {},
   "outputs": [],
   "source": [
    "cursor.close()\n",
    "dbconn.close()"
   ]
  },
  {
   "attachments": {},
   "cell_type": "markdown",
   "metadata": {},
   "source": [
    "## Using a sample databse from SQLite"
   ]
  },
  {
   "cell_type": "code",
   "execution_count": 62,
   "metadata": {},
   "outputs": [],
   "source": [
    "conn = sqlite3.connect(\"chinook.db\")\n",
    "cur = conn.cursor()"
   ]
  },
  {
   "attachments": {},
   "cell_type": "markdown",
   "metadata": {},
   "source": [
    "### Check the tables using databse catalog"
   ]
  },
  {
   "cell_type": "code",
   "execution_count": 63,
   "metadata": {},
   "outputs": [
    {
     "data": {
      "text/html": [
       "<div>\n",
       "<style scoped>\n",
       "    .dataframe tbody tr th:only-of-type {\n",
       "        vertical-align: middle;\n",
       "    }\n",
       "\n",
       "    .dataframe tbody tr th {\n",
       "        vertical-align: top;\n",
       "    }\n",
       "\n",
       "    .dataframe thead th {\n",
       "        text-align: right;\n",
       "    }\n",
       "</style>\n",
       "<table border=\"1\" class=\"dataframe\">\n",
       "  <thead>\n",
       "    <tr style=\"text-align: right;\">\n",
       "      <th></th>\n",
       "      <th>tbl_name</th>\n",
       "    </tr>\n",
       "  </thead>\n",
       "  <tbody>\n",
       "    <tr>\n",
       "      <th>0</th>\n",
       "      <td>albums</td>\n",
       "    </tr>\n",
       "    <tr>\n",
       "      <th>1</th>\n",
       "      <td>sqlite_sequence</td>\n",
       "    </tr>\n",
       "    <tr>\n",
       "      <th>2</th>\n",
       "      <td>artists</td>\n",
       "    </tr>\n",
       "    <tr>\n",
       "      <th>3</th>\n",
       "      <td>customers</td>\n",
       "    </tr>\n",
       "    <tr>\n",
       "      <th>4</th>\n",
       "      <td>employees</td>\n",
       "    </tr>\n",
       "    <tr>\n",
       "      <th>5</th>\n",
       "      <td>genres</td>\n",
       "    </tr>\n",
       "    <tr>\n",
       "      <th>6</th>\n",
       "      <td>invoices</td>\n",
       "    </tr>\n",
       "    <tr>\n",
       "      <th>7</th>\n",
       "      <td>invoice_items</td>\n",
       "    </tr>\n",
       "    <tr>\n",
       "      <th>8</th>\n",
       "      <td>media_types</td>\n",
       "    </tr>\n",
       "    <tr>\n",
       "      <th>9</th>\n",
       "      <td>playlists</td>\n",
       "    </tr>\n",
       "    <tr>\n",
       "      <th>10</th>\n",
       "      <td>playlist_track</td>\n",
       "    </tr>\n",
       "    <tr>\n",
       "      <th>11</th>\n",
       "      <td>tracks</td>\n",
       "    </tr>\n",
       "    <tr>\n",
       "      <th>12</th>\n",
       "      <td>sqlite_stat1</td>\n",
       "    </tr>\n",
       "    <tr>\n",
       "      <th>13</th>\n",
       "      <td>top15</td>\n",
       "    </tr>\n",
       "    <tr>\n",
       "      <th>14</th>\n",
       "      <td>best_acdc</td>\n",
       "    </tr>\n",
       "    <tr>\n",
       "      <th>15</th>\n",
       "      <td>dimcustomer</td>\n",
       "    </tr>\n",
       "  </tbody>\n",
       "</table>\n",
       "</div>"
      ],
      "text/plain": [
       "           tbl_name\n",
       "0            albums\n",
       "1   sqlite_sequence\n",
       "2           artists\n",
       "3         customers\n",
       "4         employees\n",
       "5            genres\n",
       "6          invoices\n",
       "7     invoice_items\n",
       "8       media_types\n",
       "9         playlists\n",
       "10   playlist_track\n",
       "11           tracks\n",
       "12     sqlite_stat1\n",
       "13            top15\n",
       "14        best_acdc\n",
       "15      dimcustomer"
      ]
     },
     "execution_count": 63,
     "metadata": {},
     "output_type": "execute_result"
    }
   ],
   "source": [
    "pd.read_sql_query(\"select tbl_name from sqlite_master where type = 'table';\", conn)"
   ]
  },
  {
   "cell_type": "code",
   "execution_count": 64,
   "metadata": {},
   "outputs": [
    {
     "name": "stdout",
     "output_type": "stream",
     "text": [
      "[(156, '...And Justice For All', 50), (257, '20th Century Masters - The Millennium Collection: The Best of Scorpions', 179), (296, 'A Copland Celebration, Vol. I', 230)]\n"
     ]
    }
   ],
   "source": [
    "albums = cur.execute(\"\"\"select * from albums order by title limit 3;\"\"\").fetchall()\n",
    "print(albums)"
   ]
  },
  {
   "cell_type": "code",
   "execution_count": 65,
   "metadata": {},
   "outputs": [
    {
     "data": {
      "text/plain": [
       "(156, '...And Justice For All', 50)"
      ]
     },
     "execution_count": 65,
     "metadata": {},
     "output_type": "execute_result"
    }
   ],
   "source": [
    "cur.execute(\"\"\"select * from albums order by title limit 3;\"\"\").fetchone()"
   ]
  },
  {
   "cell_type": "code",
   "execution_count": 66,
   "metadata": {},
   "outputs": [],
   "source": [
    "albumdata = cur.execute(\"\"\"select * from albums order by title limit 3;\"\"\").fetchmany(5)"
   ]
  },
  {
   "cell_type": "code",
   "execution_count": 67,
   "metadata": {},
   "outputs": [
    {
     "data": {
      "text/html": [
       "<div>\n",
       "<style scoped>\n",
       "    .dataframe tbody tr th:only-of-type {\n",
       "        vertical-align: middle;\n",
       "    }\n",
       "\n",
       "    .dataframe tbody tr th {\n",
       "        vertical-align: top;\n",
       "    }\n",
       "\n",
       "    .dataframe thead th {\n",
       "        text-align: right;\n",
       "    }\n",
       "</style>\n",
       "<table border=\"1\" class=\"dataframe\">\n",
       "  <thead>\n",
       "    <tr style=\"text-align: right;\">\n",
       "      <th></th>\n",
       "      <th>0</th>\n",
       "      <th>1</th>\n",
       "      <th>2</th>\n",
       "    </tr>\n",
       "  </thead>\n",
       "  <tbody>\n",
       "    <tr>\n",
       "      <th>0</th>\n",
       "      <td>156</td>\n",
       "      <td>...And Justice For All</td>\n",
       "      <td>50</td>\n",
       "    </tr>\n",
       "    <tr>\n",
       "      <th>1</th>\n",
       "      <td>257</td>\n",
       "      <td>20th Century Masters - The Millennium Collecti...</td>\n",
       "      <td>179</td>\n",
       "    </tr>\n",
       "    <tr>\n",
       "      <th>2</th>\n",
       "      <td>296</td>\n",
       "      <td>A Copland Celebration, Vol. I</td>\n",
       "      <td>230</td>\n",
       "    </tr>\n",
       "  </tbody>\n",
       "</table>\n",
       "</div>"
      ],
      "text/plain": [
       "     0                                                  1    2\n",
       "0  156                             ...And Justice For All   50\n",
       "1  257  20th Century Masters - The Millennium Collecti...  179\n",
       "2  296                      A Copland Celebration, Vol. I  230"
      ]
     },
     "execution_count": 67,
     "metadata": {},
     "output_type": "execute_result"
    }
   ],
   "source": [
    "# Convert the list returned to a dataframe..\n",
    "\n",
    "from pandas import DataFrame\n",
    "\n",
    "DataFrame(albumdata)"
   ]
  },
  {
   "cell_type": "code",
   "execution_count": 68,
   "metadata": {},
   "outputs": [
    {
     "data": {
      "text/html": [
       "<div>\n",
       "<style scoped>\n",
       "    .dataframe tbody tr th:only-of-type {\n",
       "        vertical-align: middle;\n",
       "    }\n",
       "\n",
       "    .dataframe tbody tr th {\n",
       "        vertical-align: top;\n",
       "    }\n",
       "\n",
       "    .dataframe thead th {\n",
       "        text-align: right;\n",
       "    }\n",
       "</style>\n",
       "<table border=\"1\" class=\"dataframe\">\n",
       "  <thead>\n",
       "    <tr style=\"text-align: right;\">\n",
       "      <th></th>\n",
       "      <th>AlbumId</th>\n",
       "      <th>Title</th>\n",
       "      <th>ArtistId</th>\n",
       "    </tr>\n",
       "  </thead>\n",
       "  <tbody>\n",
       "    <tr>\n",
       "      <th>0</th>\n",
       "      <td>1</td>\n",
       "      <td>For Those About To Rock We Salute You</td>\n",
       "      <td>1</td>\n",
       "    </tr>\n",
       "    <tr>\n",
       "      <th>1</th>\n",
       "      <td>2</td>\n",
       "      <td>Balls to the Wall</td>\n",
       "      <td>2</td>\n",
       "    </tr>\n",
       "    <tr>\n",
       "      <th>2</th>\n",
       "      <td>3</td>\n",
       "      <td>Restless and Wild</td>\n",
       "      <td>2</td>\n",
       "    </tr>\n",
       "    <tr>\n",
       "      <th>3</th>\n",
       "      <td>4</td>\n",
       "      <td>Let There Be Rock</td>\n",
       "      <td>1</td>\n",
       "    </tr>\n",
       "    <tr>\n",
       "      <th>4</th>\n",
       "      <td>5</td>\n",
       "      <td>Big Ones</td>\n",
       "      <td>3</td>\n",
       "    </tr>\n",
       "  </tbody>\n",
       "</table>\n",
       "</div>"
      ],
      "text/plain": [
       "   AlbumId                                  Title  ArtistId\n",
       "0        1  For Those About To Rock We Salute You         1\n",
       "1        2                      Balls to the Wall         2\n",
       "2        3                      Restless and Wild         2\n",
       "3        4                      Let There Be Rock         1\n",
       "4        5                               Big Ones         3"
      ]
     },
     "execution_count": 68,
     "metadata": {},
     "output_type": "execute_result"
    }
   ],
   "source": [
    "import sqlite3\n",
    "import pandas as pd\n",
    "\n",
    "# return query results as a dataframe\n",
    "\n",
    "dfalbum = pd.read_sql_query(\"SELECT * FROM albums\", conn)\n",
    "dfalbum.head()"
   ]
  },
  {
   "attachments": {},
   "cell_type": "markdown",
   "metadata": {},
   "source": [
    "### Changing the default dataframe index"
   ]
  },
  {
   "cell_type": "code",
   "execution_count": 69,
   "metadata": {},
   "outputs": [
    {
     "data": {
      "text/html": [
       "<div>\n",
       "<style scoped>\n",
       "    .dataframe tbody tr th:only-of-type {\n",
       "        vertical-align: middle;\n",
       "    }\n",
       "\n",
       "    .dataframe tbody tr th {\n",
       "        vertical-align: top;\n",
       "    }\n",
       "\n",
       "    .dataframe thead th {\n",
       "        text-align: right;\n",
       "    }\n",
       "</style>\n",
       "<table border=\"1\" class=\"dataframe\">\n",
       "  <thead>\n",
       "    <tr style=\"text-align: right;\">\n",
       "      <th></th>\n",
       "      <th>Album</th>\n",
       "      <th>Song</th>\n",
       "    </tr>\n",
       "    <tr>\n",
       "      <th>Artist</th>\n",
       "      <th></th>\n",
       "      <th></th>\n",
       "    </tr>\n",
       "  </thead>\n",
       "  <tbody>\n",
       "    <tr>\n",
       "      <th>AC/DC</th>\n",
       "      <td>For Those About</td>\n",
       "      <td>For Those About To Rock (We Salute You)</td>\n",
       "    </tr>\n",
       "    <tr>\n",
       "      <th>AC/DC</th>\n",
       "      <td>For Those About</td>\n",
       "      <td>Put The Finger On You</td>\n",
       "    </tr>\n",
       "    <tr>\n",
       "      <th>AC/DC</th>\n",
       "      <td>For Those About</td>\n",
       "      <td>Let's Get It Up</td>\n",
       "    </tr>\n",
       "    <tr>\n",
       "      <th>AC/DC</th>\n",
       "      <td>For Those About</td>\n",
       "      <td>Inject The Venom</td>\n",
       "    </tr>\n",
       "    <tr>\n",
       "      <th>AC/DC</th>\n",
       "      <td>For Those About</td>\n",
       "      <td>Snowballed</td>\n",
       "    </tr>\n",
       "    <tr>\n",
       "      <th>AC/DC</th>\n",
       "      <td>For Those About</td>\n",
       "      <td>Evil Walks</td>\n",
       "    </tr>\n",
       "    <tr>\n",
       "      <th>AC/DC</th>\n",
       "      <td>For Those About</td>\n",
       "      <td>C.O.D.</td>\n",
       "    </tr>\n",
       "    <tr>\n",
       "      <th>AC/DC</th>\n",
       "      <td>For Those About</td>\n",
       "      <td>Breaking The Rules</td>\n",
       "    </tr>\n",
       "    <tr>\n",
       "      <th>AC/DC</th>\n",
       "      <td>For Those About</td>\n",
       "      <td>Night Of The Long Knives</td>\n",
       "    </tr>\n",
       "    <tr>\n",
       "      <th>AC/DC</th>\n",
       "      <td>For Those About</td>\n",
       "      <td>Spellbound</td>\n",
       "    </tr>\n",
       "    <tr>\n",
       "      <th>AC/DC</th>\n",
       "      <td>Let There Be Ro</td>\n",
       "      <td>Go Down</td>\n",
       "    </tr>\n",
       "    <tr>\n",
       "      <th>AC/DC</th>\n",
       "      <td>Let There Be Ro</td>\n",
       "      <td>Dog Eat Dog</td>\n",
       "    </tr>\n",
       "    <tr>\n",
       "      <th>AC/DC</th>\n",
       "      <td>Let There Be Ro</td>\n",
       "      <td>Let There Be Rock</td>\n",
       "    </tr>\n",
       "    <tr>\n",
       "      <th>AC/DC</th>\n",
       "      <td>Let There Be Ro</td>\n",
       "      <td>Bad Boy Boogie</td>\n",
       "    </tr>\n",
       "    <tr>\n",
       "      <th>AC/DC</th>\n",
       "      <td>Let There Be Ro</td>\n",
       "      <td>Problem Child</td>\n",
       "    </tr>\n",
       "  </tbody>\n",
       "</table>\n",
       "</div>"
      ],
      "text/plain": [
       "                  Album                                     Song\n",
       "Artist                                                          \n",
       "AC/DC   For Those About  For Those About To Rock (We Salute You)\n",
       "AC/DC   For Those About                    Put The Finger On You\n",
       "AC/DC   For Those About                          Let's Get It Up\n",
       "AC/DC   For Those About                         Inject The Venom\n",
       "AC/DC   For Those About                               Snowballed\n",
       "AC/DC   For Those About                               Evil Walks\n",
       "AC/DC   For Those About                                   C.O.D.\n",
       "AC/DC   For Those About                       Breaking The Rules\n",
       "AC/DC   For Those About                 Night Of The Long Knives\n",
       "AC/DC   For Those About                               Spellbound\n",
       "AC/DC   Let There Be Ro                                  Go Down\n",
       "AC/DC   Let There Be Ro                              Dog Eat Dog\n",
       "AC/DC   Let There Be Ro                        Let There Be Rock\n",
       "AC/DC   Let There Be Ro                           Bad Boy Boogie\n",
       "AC/DC   Let There Be Ro                            Problem Child"
      ]
     },
     "execution_count": 69,
     "metadata": {},
     "output_type": "execute_result"
    }
   ],
   "source": [
    "qry = '''\n",
    "select substr(a.name, 1, 10) as Artist,\n",
    "       substr(title,1, 15) as Album,\n",
    "       t.name as Song\n",
    "from albums r\n",
    "join artists a\n",
    "on (r.artistid = a.artistid)\n",
    "join tracks t \n",
    "on (r.albumid = t.albumid)\n",
    "order by a.name, title\n",
    "limit 15;\n",
    "'''\n",
    "\n",
    "pd.read_sql_query(qry, conn, index_col = 'Artist')  # index_col replaces the default dataframe index"
   ]
  },
  {
   "attachments": {},
   "cell_type": "markdown",
   "metadata": {},
   "source": [
    "### Creating a new table from a SQL query "
   ]
  },
  {
   "cell_type": "code",
   "execution_count": 70,
   "metadata": {},
   "outputs": [],
   "source": [
    "# Note the create table statment before the select query...\n",
    "\n",
    "qry = '''\n",
    "create table if not exists top15 as\n",
    "select substr(a.name, 1, 10) as Artist,\n",
    "       substr(title,1, 15) as Album,\n",
    "       t.name as Song\n",
    "from albums r\n",
    "join artists a\n",
    "on (r.artistid = a.artistid)\n",
    "join tracks t \n",
    "on (r.albumid = t.albumid)\n",
    "order by a.name, title\n",
    "limit 15;\n",
    "'''\n",
    "\n",
    "albums = cur.execute(qry)"
   ]
  },
  {
   "cell_type": "code",
   "execution_count": 71,
   "metadata": {},
   "outputs": [
    {
     "data": {
      "text/html": [
       "<div>\n",
       "<style scoped>\n",
       "    .dataframe tbody tr th:only-of-type {\n",
       "        vertical-align: middle;\n",
       "    }\n",
       "\n",
       "    .dataframe tbody tr th {\n",
       "        vertical-align: top;\n",
       "    }\n",
       "\n",
       "    .dataframe thead th {\n",
       "        text-align: right;\n",
       "    }\n",
       "</style>\n",
       "<table border=\"1\" class=\"dataframe\">\n",
       "  <thead>\n",
       "    <tr style=\"text-align: right;\">\n",
       "      <th></th>\n",
       "      <th>Artist</th>\n",
       "      <th>Album</th>\n",
       "      <th>Song</th>\n",
       "    </tr>\n",
       "  </thead>\n",
       "  <tbody>\n",
       "    <tr>\n",
       "      <th>0</th>\n",
       "      <td>AC/DC</td>\n",
       "      <td>For Those About</td>\n",
       "      <td>For Those About To Rock (We Salute You)</td>\n",
       "    </tr>\n",
       "    <tr>\n",
       "      <th>1</th>\n",
       "      <td>AC/DC</td>\n",
       "      <td>For Those About</td>\n",
       "      <td>Put The Finger On You</td>\n",
       "    </tr>\n",
       "    <tr>\n",
       "      <th>2</th>\n",
       "      <td>AC/DC</td>\n",
       "      <td>For Those About</td>\n",
       "      <td>Let's Get It Up</td>\n",
       "    </tr>\n",
       "    <tr>\n",
       "      <th>3</th>\n",
       "      <td>AC/DC</td>\n",
       "      <td>For Those About</td>\n",
       "      <td>Inject The Venom</td>\n",
       "    </tr>\n",
       "    <tr>\n",
       "      <th>4</th>\n",
       "      <td>AC/DC</td>\n",
       "      <td>For Those About</td>\n",
       "      <td>Snowballed</td>\n",
       "    </tr>\n",
       "    <tr>\n",
       "      <th>5</th>\n",
       "      <td>AC/DC</td>\n",
       "      <td>For Those About</td>\n",
       "      <td>Evil Walks</td>\n",
       "    </tr>\n",
       "    <tr>\n",
       "      <th>6</th>\n",
       "      <td>AC/DC</td>\n",
       "      <td>For Those About</td>\n",
       "      <td>C.O.D.</td>\n",
       "    </tr>\n",
       "    <tr>\n",
       "      <th>7</th>\n",
       "      <td>AC/DC</td>\n",
       "      <td>For Those About</td>\n",
       "      <td>Breaking The Rules</td>\n",
       "    </tr>\n",
       "    <tr>\n",
       "      <th>8</th>\n",
       "      <td>AC/DC</td>\n",
       "      <td>For Those About</td>\n",
       "      <td>Night Of The Long Knives</td>\n",
       "    </tr>\n",
       "    <tr>\n",
       "      <th>9</th>\n",
       "      <td>AC/DC</td>\n",
       "      <td>For Those About</td>\n",
       "      <td>Spellbound</td>\n",
       "    </tr>\n",
       "    <tr>\n",
       "      <th>10</th>\n",
       "      <td>AC/DC</td>\n",
       "      <td>Let There Be Ro</td>\n",
       "      <td>Go Down</td>\n",
       "    </tr>\n",
       "    <tr>\n",
       "      <th>11</th>\n",
       "      <td>AC/DC</td>\n",
       "      <td>Let There Be Ro</td>\n",
       "      <td>Dog Eat Dog</td>\n",
       "    </tr>\n",
       "    <tr>\n",
       "      <th>12</th>\n",
       "      <td>AC/DC</td>\n",
       "      <td>Let There Be Ro</td>\n",
       "      <td>Let There Be Rock</td>\n",
       "    </tr>\n",
       "    <tr>\n",
       "      <th>13</th>\n",
       "      <td>AC/DC</td>\n",
       "      <td>Let There Be Ro</td>\n",
       "      <td>Bad Boy Boogie</td>\n",
       "    </tr>\n",
       "    <tr>\n",
       "      <th>14</th>\n",
       "      <td>AC/DC</td>\n",
       "      <td>Let There Be Ro</td>\n",
       "      <td>Problem Child</td>\n",
       "    </tr>\n",
       "  </tbody>\n",
       "</table>\n",
       "</div>"
      ],
      "text/plain": [
       "   Artist            Album                                     Song\n",
       "0   AC/DC  For Those About  For Those About To Rock (We Salute You)\n",
       "1   AC/DC  For Those About                    Put The Finger On You\n",
       "2   AC/DC  For Those About                          Let's Get It Up\n",
       "3   AC/DC  For Those About                         Inject The Venom\n",
       "4   AC/DC  For Those About                               Snowballed\n",
       "5   AC/DC  For Those About                               Evil Walks\n",
       "6   AC/DC  For Those About                                   C.O.D.\n",
       "7   AC/DC  For Those About                       Breaking The Rules\n",
       "8   AC/DC  For Those About                 Night Of The Long Knives\n",
       "9   AC/DC  For Those About                               Spellbound\n",
       "10  AC/DC  Let There Be Ro                                  Go Down\n",
       "11  AC/DC  Let There Be Ro                              Dog Eat Dog\n",
       "12  AC/DC  Let There Be Ro                        Let There Be Rock\n",
       "13  AC/DC  Let There Be Ro                           Bad Boy Boogie\n",
       "14  AC/DC  Let There Be Ro                            Problem Child"
      ]
     },
     "execution_count": 71,
     "metadata": {},
     "output_type": "execute_result"
    }
   ],
   "source": [
    "pd.read_sql_query('select * from top15', conn)"
   ]
  },
  {
   "attachments": {},
   "cell_type": "markdown",
   "metadata": {},
   "source": [
    "### Creating a new table from a dataframe"
   ]
  },
  {
   "cell_type": "code",
   "execution_count": 72,
   "metadata": {},
   "outputs": [],
   "source": [
    "best_acdcDF = pd.read_sql_query('select * from top15 where artist = \"AC/DC\"', conn)"
   ]
  },
  {
   "cell_type": "code",
   "execution_count": 73,
   "metadata": {},
   "outputs": [
    {
     "data": {
      "text/plain": [
       "15"
      ]
     },
     "execution_count": 73,
     "metadata": {},
     "output_type": "execute_result"
    }
   ],
   "source": [
    "best_acdcDF.to_sql('best_acdc', con=conn, if_exists='append')"
   ]
  },
  {
   "cell_type": "code",
   "execution_count": 74,
   "metadata": {},
   "outputs": [
    {
     "data": {
      "text/html": [
       "<div>\n",
       "<style scoped>\n",
       "    .dataframe tbody tr th:only-of-type {\n",
       "        vertical-align: middle;\n",
       "    }\n",
       "\n",
       "    .dataframe tbody tr th {\n",
       "        vertical-align: top;\n",
       "    }\n",
       "\n",
       "    .dataframe thead th {\n",
       "        text-align: right;\n",
       "    }\n",
       "</style>\n",
       "<table border=\"1\" class=\"dataframe\">\n",
       "  <thead>\n",
       "    <tr style=\"text-align: right;\">\n",
       "      <th></th>\n",
       "      <th>index</th>\n",
       "      <th>Artist</th>\n",
       "      <th>Album</th>\n",
       "      <th>Song</th>\n",
       "    </tr>\n",
       "  </thead>\n",
       "  <tbody>\n",
       "    <tr>\n",
       "      <th>0</th>\n",
       "      <td>0</td>\n",
       "      <td>AC/DC</td>\n",
       "      <td>For Those About</td>\n",
       "      <td>For Those About To Rock (We Salute You)</td>\n",
       "    </tr>\n",
       "    <tr>\n",
       "      <th>1</th>\n",
       "      <td>1</td>\n",
       "      <td>AC/DC</td>\n",
       "      <td>For Those About</td>\n",
       "      <td>Put The Finger On You</td>\n",
       "    </tr>\n",
       "    <tr>\n",
       "      <th>2</th>\n",
       "      <td>2</td>\n",
       "      <td>AC/DC</td>\n",
       "      <td>For Those About</td>\n",
       "      <td>Let's Get It Up</td>\n",
       "    </tr>\n",
       "    <tr>\n",
       "      <th>3</th>\n",
       "      <td>3</td>\n",
       "      <td>AC/DC</td>\n",
       "      <td>For Those About</td>\n",
       "      <td>Inject The Venom</td>\n",
       "    </tr>\n",
       "    <tr>\n",
       "      <th>4</th>\n",
       "      <td>4</td>\n",
       "      <td>AC/DC</td>\n",
       "      <td>For Those About</td>\n",
       "      <td>Snowballed</td>\n",
       "    </tr>\n",
       "    <tr>\n",
       "      <th>...</th>\n",
       "      <td>...</td>\n",
       "      <td>...</td>\n",
       "      <td>...</td>\n",
       "      <td>...</td>\n",
       "    </tr>\n",
       "    <tr>\n",
       "      <th>85</th>\n",
       "      <td>10</td>\n",
       "      <td>AC/DC</td>\n",
       "      <td>Let There Be Ro</td>\n",
       "      <td>Go Down</td>\n",
       "    </tr>\n",
       "    <tr>\n",
       "      <th>86</th>\n",
       "      <td>11</td>\n",
       "      <td>AC/DC</td>\n",
       "      <td>Let There Be Ro</td>\n",
       "      <td>Dog Eat Dog</td>\n",
       "    </tr>\n",
       "    <tr>\n",
       "      <th>87</th>\n",
       "      <td>12</td>\n",
       "      <td>AC/DC</td>\n",
       "      <td>Let There Be Ro</td>\n",
       "      <td>Let There Be Rock</td>\n",
       "    </tr>\n",
       "    <tr>\n",
       "      <th>88</th>\n",
       "      <td>13</td>\n",
       "      <td>AC/DC</td>\n",
       "      <td>Let There Be Ro</td>\n",
       "      <td>Bad Boy Boogie</td>\n",
       "    </tr>\n",
       "    <tr>\n",
       "      <th>89</th>\n",
       "      <td>14</td>\n",
       "      <td>AC/DC</td>\n",
       "      <td>Let There Be Ro</td>\n",
       "      <td>Problem Child</td>\n",
       "    </tr>\n",
       "  </tbody>\n",
       "</table>\n",
       "<p>90 rows × 4 columns</p>\n",
       "</div>"
      ],
      "text/plain": [
       "    index Artist            Album                                     Song\n",
       "0       0  AC/DC  For Those About  For Those About To Rock (We Salute You)\n",
       "1       1  AC/DC  For Those About                    Put The Finger On You\n",
       "2       2  AC/DC  For Those About                          Let's Get It Up\n",
       "3       3  AC/DC  For Those About                         Inject The Venom\n",
       "4       4  AC/DC  For Those About                               Snowballed\n",
       "..    ...    ...              ...                                      ...\n",
       "85     10  AC/DC  Let There Be Ro                                  Go Down\n",
       "86     11  AC/DC  Let There Be Ro                              Dog Eat Dog\n",
       "87     12  AC/DC  Let There Be Ro                        Let There Be Rock\n",
       "88     13  AC/DC  Let There Be Ro                           Bad Boy Boogie\n",
       "89     14  AC/DC  Let There Be Ro                            Problem Child\n",
       "\n",
       "[90 rows x 4 columns]"
      ]
     },
     "execution_count": 74,
     "metadata": {},
     "output_type": "execute_result"
    }
   ],
   "source": [
    " pd.read_sql_query('select * from best_acdc', conn)"
   ]
  },
  {
   "attachments": {},
   "cell_type": "markdown",
   "metadata": {},
   "source": [
    "### Closing the connection. "
   ]
  },
  {
   "cell_type": "code",
   "execution_count": 75,
   "metadata": {},
   "outputs": [],
   "source": [
    "cur.close()\n",
    "conn.close()"
   ]
  }
 ],
 "metadata": {
  "kernelspec": {
   "display_name": "base",
   "language": "python",
   "name": "python3"
  },
  "language_info": {
   "codemirror_mode": {
    "name": "ipython",
    "version": 3
   },
   "file_extension": ".py",
   "mimetype": "text/x-python",
   "name": "python",
   "nbconvert_exporter": "python",
   "pygments_lexer": "ipython3",
   "version": "3.9.13"
  },
  "vscode": {
   "interpreter": {
    "hash": "8e2db7189f46a70da74aa1c99937a286018cca232304aa84c29169c9891b1282"
   }
  }
 },
 "nbformat": 4,
 "nbformat_minor": 2
}
